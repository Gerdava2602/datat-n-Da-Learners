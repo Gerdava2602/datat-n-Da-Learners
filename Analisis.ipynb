{
 "cells": [
  {
   "cell_type": "code",
   "execution_count": 17,
   "metadata": {},
   "outputs": [],
   "source": [
    "import pandas as pd"
   ]
  },
  {
   "cell_type": "code",
   "execution_count": 19,
   "metadata": {},
   "outputs": [],
   "source": [
    "df = pd.read_csv('./src/data/archivos_auxiliares/noticias_cleaned.csv')"
   ]
  },
  {
   "cell_type": "code",
   "execution_count": 20,
   "metadata": {},
   "outputs": [
    {
     "data": {
      "text/html": [
       "<div>\n",
       "<style scoped>\n",
       "    .dataframe tbody tr th:only-of-type {\n",
       "        vertical-align: middle;\n",
       "    }\n",
       "\n",
       "    .dataframe tbody tr th {\n",
       "        vertical-align: top;\n",
       "    }\n",
       "\n",
       "    .dataframe thead th {\n",
       "        text-align: right;\n",
       "    }\n",
       "</style>\n",
       "<table border=\"1\" class=\"dataframe\">\n",
       "  <thead>\n",
       "    <tr style=\"text-align: right;\">\n",
       "      <th></th>\n",
       "      <th>news_id</th>\n",
       "      <th>news_url_absolute</th>\n",
       "      <th>news_init_date</th>\n",
       "      <th>news_final_date</th>\n",
       "      <th>news_title</th>\n",
       "      <th>news_text_content</th>\n",
       "    </tr>\n",
       "  </thead>\n",
       "  <tbody>\n",
       "    <tr>\n",
       "      <th>0</th>\n",
       "      <td>news10006</td>\n",
       "      <td>https://www.bluradio.com/economia/precio-dolar...</td>\n",
       "      <td>2022-07-30</td>\n",
       "      <td>2022-08-14</td>\n",
       "      <td>precio dolar hoy cotizacion divisa aumento supero</td>\n",
       "      <td>martes agosto dolar alcanzo precio maximo mini...</td>\n",
       "    </tr>\n",
       "    <tr>\n",
       "      <th>1</th>\n",
       "      <td>news10011</td>\n",
       "      <td>https://www.semana.com/economia/macroeconomia/...</td>\n",
       "      <td>2022-07-30</td>\n",
       "      <td>2022-08-14</td>\n",
       "      <td>cierto presidente gustavo petro quiere acabe d...</td>\n",
       "      <td>mas permanente temporal asi ocurrio impuesto x...</td>\n",
       "    </tr>\n",
       "    <tr>\n",
       "      <th>2</th>\n",
       "      <td>news10015</td>\n",
       "      <td>https://elcomercio.pe/respuestas/que/gustavo-p...</td>\n",
       "      <td>2022-07-30</td>\n",
       "      <td>2022-08-14</td>\n",
       "      <td>gustavo petro dice informe final equipo empalme</td>\n",
       "      <td>equipo empalme gobierno presidente electo gust...</td>\n",
       "    </tr>\n",
       "    <tr>\n",
       "      <th>3</th>\n",
       "      <td>news10028</td>\n",
       "      <td>https://www.lanacion.com.ar/estados-unidos/cua...</td>\n",
       "      <td>2022-07-30</td>\n",
       "      <td>2022-08-14</td>\n",
       "      <td>cuanto cuesta enviar dinero unidos paises reme...</td>\n",
       "      <td>buscas opciones envio dinero unidos mexico pai...</td>\n",
       "    </tr>\n",
       "    <tr>\n",
       "      <th>4</th>\n",
       "      <td>news10029</td>\n",
       "      <td>https://www.lanacion.com.ar/estados-unidos/com...</td>\n",
       "      <td>2022-07-30</td>\n",
       "      <td>2022-08-14</td>\n",
       "      <td>enviar dinero unidos paises cuanto cuesta reme...</td>\n",
       "      <td>buscas opciones envio dinero unidos mexico pai...</td>\n",
       "    </tr>\n",
       "    <tr>\n",
       "      <th>...</th>\n",
       "      <td>...</td>\n",
       "      <td>...</td>\n",
       "      <td>...</td>\n",
       "      <td>...</td>\n",
       "      <td>...</td>\n",
       "      <td>...</td>\n",
       "    </tr>\n",
       "    <tr>\n",
       "      <th>23372</th>\n",
       "      <td>news99983</td>\n",
       "      <td>https://www.tuuputchika.com/2022/08/07/como-av...</td>\n",
       "      <td>2022-07-30</td>\n",
       "      <td>2022-08-14</td>\n",
       "      <td>avanza guajira materia produccion</td>\n",
       "      <td>mesa mas guajira guajira ocupados encuentran a...</td>\n",
       "    </tr>\n",
       "    <tr>\n",
       "      <th>23373</th>\n",
       "      <td>news99989</td>\n",
       "      <td>https://www.publimetro.com.mx/nacional/2022/08...</td>\n",
       "      <td>2022-07-30</td>\n",
       "      <td>2022-08-14</td>\n",
       "      <td>mineros condiciones laboran trabajadores</td>\n",
       "      <td>pesar enfrentan multiples riesgos actividad al...</td>\n",
       "    </tr>\n",
       "    <tr>\n",
       "      <th>23374</th>\n",
       "      <td>news99991</td>\n",
       "      <td>https://www.laopinion.com.co/columnistas/la-de...</td>\n",
       "      <td>2022-07-15</td>\n",
       "      <td>2022-07-30</td>\n",
       "      <td>deuda externa problema mayor</td>\n",
       "      <td>anos siglo pasado sociologos economistas soste...</td>\n",
       "    </tr>\n",
       "    <tr>\n",
       "      <th>23375</th>\n",
       "      <td>news99996</td>\n",
       "      <td>https://www.laopinion.com.co/premium/economia/...</td>\n",
       "      <td>2022-07-15</td>\n",
       "      <td>2022-07-30</td>\n",
       "      <td>ocurren recesiones economicas</td>\n",
       "      <td>comportamiento economia ultimos meses hace per...</td>\n",
       "    </tr>\n",
       "    <tr>\n",
       "      <th>23376</th>\n",
       "      <td>news99997</td>\n",
       "      <td>https://www.laopinion.com.co/economia/en-cucut...</td>\n",
       "      <td>2022-07-15</td>\n",
       "      <td>2022-07-30</td>\n",
       "      <td>cucuta subio desempleo junio</td>\n",
       "      <td>viernes departamento administrativo nacional e...</td>\n",
       "    </tr>\n",
       "  </tbody>\n",
       "</table>\n",
       "<p>23377 rows × 6 columns</p>\n",
       "</div>"
      ],
      "text/plain": [
       "         news_id                                  news_url_absolute  \\\n",
       "0      news10006  https://www.bluradio.com/economia/precio-dolar...   \n",
       "1      news10011  https://www.semana.com/economia/macroeconomia/...   \n",
       "2      news10015  https://elcomercio.pe/respuestas/que/gustavo-p...   \n",
       "3      news10028  https://www.lanacion.com.ar/estados-unidos/cua...   \n",
       "4      news10029  https://www.lanacion.com.ar/estados-unidos/com...   \n",
       "...          ...                                                ...   \n",
       "23372  news99983  https://www.tuuputchika.com/2022/08/07/como-av...   \n",
       "23373  news99989  https://www.publimetro.com.mx/nacional/2022/08...   \n",
       "23374  news99991  https://www.laopinion.com.co/columnistas/la-de...   \n",
       "23375  news99996  https://www.laopinion.com.co/premium/economia/...   \n",
       "23376  news99997  https://www.laopinion.com.co/economia/en-cucut...   \n",
       "\n",
       "      news_init_date news_final_date  \\\n",
       "0         2022-07-30      2022-08-14   \n",
       "1         2022-07-30      2022-08-14   \n",
       "2         2022-07-30      2022-08-14   \n",
       "3         2022-07-30      2022-08-14   \n",
       "4         2022-07-30      2022-08-14   \n",
       "...              ...             ...   \n",
       "23372     2022-07-30      2022-08-14   \n",
       "23373     2022-07-30      2022-08-14   \n",
       "23374     2022-07-15      2022-07-30   \n",
       "23375     2022-07-15      2022-07-30   \n",
       "23376     2022-07-15      2022-07-30   \n",
       "\n",
       "                                              news_title  \\\n",
       "0      precio dolar hoy cotizacion divisa aumento supero   \n",
       "1      cierto presidente gustavo petro quiere acabe d...   \n",
       "2        gustavo petro dice informe final equipo empalme   \n",
       "3      cuanto cuesta enviar dinero unidos paises reme...   \n",
       "4      enviar dinero unidos paises cuanto cuesta reme...   \n",
       "...                                                  ...   \n",
       "23372                  avanza guajira materia produccion   \n",
       "23373           mineros condiciones laboran trabajadores   \n",
       "23374                       deuda externa problema mayor   \n",
       "23375                      ocurren recesiones economicas   \n",
       "23376                       cucuta subio desempleo junio   \n",
       "\n",
       "                                       news_text_content  \n",
       "0      martes agosto dolar alcanzo precio maximo mini...  \n",
       "1      mas permanente temporal asi ocurrio impuesto x...  \n",
       "2      equipo empalme gobierno presidente electo gust...  \n",
       "3      buscas opciones envio dinero unidos mexico pai...  \n",
       "4      buscas opciones envio dinero unidos mexico pai...  \n",
       "...                                                  ...  \n",
       "23372  mesa mas guajira guajira ocupados encuentran a...  \n",
       "23373  pesar enfrentan multiples riesgos actividad al...  \n",
       "23374  anos siglo pasado sociologos economistas soste...  \n",
       "23375  comportamiento economia ultimos meses hace per...  \n",
       "23376  viernes departamento administrativo nacional e...  \n",
       "\n",
       "[23377 rows x 6 columns]"
      ]
     },
     "execution_count": 20,
     "metadata": {},
     "output_type": "execute_result"
    }
   ],
   "source": [
    "df"
   ]
  },
  {
   "cell_type": "code",
   "execution_count": 21,
   "metadata": {},
   "outputs": [
    {
     "name": "stderr",
     "output_type": "stream",
     "text": [
      "C:\\Users\\isabl\\AppData\\Local\\Temp\\ipykernel_16088\\2077101062.py:1: FutureWarning: The default value of regex will change from True to False in a future version.\n",
      "  df['news_url_without_dates'] = df['news_url_absolute'].str.replace(r'\\/\\d+\\/\\d+\\/\\d+\\/|\\/\\d+\\/','/')\n"
     ]
    }
   ],
   "source": [
    "df['news_url_without_dates'] = df['news_url_absolute'].str.replace(r'\\/\\d+\\/\\d+\\/\\d+\\/|\\/\\d+\\/','/')"
   ]
  },
  {
   "cell_type": "code",
   "execution_count": 22,
   "metadata": {},
   "outputs": [],
   "source": [
    "# regex to get the domain name\n",
    "df['domain'] = df['news_url_absolute'].str.extract(\n",
    "    r'^(?:https?:\\/\\/)?(?:[^@\\n]+@)?(?:www\\.)?([^:\\/\\n?]+)')\n"
   ]
  },
  {
   "cell_type": "code",
   "execution_count": 23,
   "metadata": {},
   "outputs": [
    {
     "data": {
      "text/plain": [
       "1969"
      ]
     },
     "execution_count": 23,
     "metadata": {},
     "output_type": "execute_result"
    }
   ],
   "source": [
    "len(df['domain'].unique())"
   ]
  },
  {
   "cell_type": "code",
   "execution_count": 24,
   "metadata": {},
   "outputs": [],
   "source": [
    "def split_backslash_remove_whitespaces(x):\n",
    "    url_split = x.split('/')\n",
    "    return list(filter(lambda x : (x != ''), url_split))[2:-1]"
   ]
  },
  {
   "cell_type": "code",
   "execution_count": 25,
   "metadata": {},
   "outputs": [],
   "source": [
    "df['sections_url'] = df['news_url_without_dates'].apply(split_backslash_remove_whitespaces)"
   ]
  },
  {
   "cell_type": "code",
   "execution_count": 26,
   "metadata": {},
   "outputs": [
    {
     "data": {
      "text/plain": [
       "news_id                                                           news10011\n",
       "news_url_absolute         https://www.semana.com/economia/macroeconomia/...\n",
       "news_init_date                                                   2022-07-30\n",
       "news_final_date                                                  2022-08-14\n",
       "news_title                cierto presidente gustavo petro quiere acabe d...\n",
       "news_text_content         mas permanente temporal asi ocurrio impuesto x...\n",
       "news_url_without_dates    https://www.semana.com/economia/macroeconomia/...\n",
       "domain                                                           semana.com\n",
       "sections_url                            [economia, macroeconomia, articulo]\n",
       "Name: 1, dtype: object"
      ]
     },
     "execution_count": 26,
     "metadata": {},
     "output_type": "execute_result"
    }
   ],
   "source": [
    "df.iloc[1]"
   ]
  },
  {
   "cell_type": "code",
   "execution_count": 66,
   "metadata": {},
   "outputs": [],
   "source": [
    "import json \n",
    "import os \n",
    "\n",
    "with open('./src/data/archivos_auxiliares/terms_upgrade.json', encoding='utf-8') as json_data:\n",
    "    data = json.load(json_data)"
   ]
  },
  {
   "cell_type": "code",
   "execution_count": 51,
   "metadata": {},
   "outputs": [],
   "source": [
    "terms = []\n",
    "for keys,values in data.items():\n",
    "    terms.append(values)"
   ]
  },
  {
   "cell_type": "code",
   "execution_count": 68,
   "metadata": {},
   "outputs": [],
   "source": [
    "terms = [item for sublist in terms for item in sublist] "
   ]
  },
  {
   "cell_type": "code",
   "execution_count": 42,
   "metadata": {},
   "outputs": [],
   "source": [
    "df['etiqueta'] = df['sections_url'].apply(lambda x: bool(set(x) & set(terms)))\n"
   ]
  },
  {
   "cell_type": "code",
   "execution_count": 43,
   "metadata": {},
   "outputs": [
    {
     "data": {
      "text/plain": [
       "False    20695\n",
       "True      2682\n",
       "Name: etiqueta, dtype: int64"
      ]
     },
     "execution_count": 43,
     "metadata": {},
     "output_type": "execute_result"
    }
   ],
   "source": [
    "df['etiqueta'].value_counts()"
   ]
  },
  {
   "cell_type": "code",
   "execution_count": 44,
   "metadata": {},
   "outputs": [
    {
     "data": {
      "text/plain": [
       "11.472815160200197"
      ]
     },
     "execution_count": 44,
     "metadata": {},
     "output_type": "execute_result"
    }
   ],
   "source": [
    "(df['etiqueta'].value_counts().values[1]/len(df))*100\n"
   ]
  },
  {
   "cell_type": "code",
   "execution_count": 45,
   "metadata": {},
   "outputs": [
    {
     "data": {
      "text/html": [
       "<div>\n",
       "<style scoped>\n",
       "    .dataframe tbody tr th:only-of-type {\n",
       "        vertical-align: middle;\n",
       "    }\n",
       "\n",
       "    .dataframe tbody tr th {\n",
       "        vertical-align: top;\n",
       "    }\n",
       "\n",
       "    .dataframe thead th {\n",
       "        text-align: right;\n",
       "    }\n",
       "</style>\n",
       "<table border=\"1\" class=\"dataframe\">\n",
       "  <thead>\n",
       "    <tr style=\"text-align: right;\">\n",
       "      <th></th>\n",
       "      <th>news_id</th>\n",
       "      <th>news_url_absolute</th>\n",
       "      <th>news_init_date</th>\n",
       "      <th>news_final_date</th>\n",
       "      <th>news_title</th>\n",
       "      <th>news_text_content</th>\n",
       "      <th>news_url_without_dates</th>\n",
       "      <th>domain</th>\n",
       "      <th>sections_url</th>\n",
       "      <th>etiqueta</th>\n",
       "    </tr>\n",
       "  </thead>\n",
       "  <tbody>\n",
       "  </tbody>\n",
       "</table>\n",
       "</div>"
      ],
      "text/plain": [
       "Empty DataFrame\n",
       "Columns: [news_id, news_url_absolute, news_init_date, news_final_date, news_title, news_text_content, news_url_without_dates, domain, sections_url, etiqueta]\n",
       "Index: []"
      ]
     },
     "execution_count": 45,
     "metadata": {},
     "output_type": "execute_result"
    }
   ],
   "source": [
    "df[df['etiqueta'] == '0']\n"
   ]
  },
  {
   "cell_type": "code",
   "execution_count": 46,
   "metadata": {},
   "outputs": [
    {
     "data": {
      "text/plain": [
       "'https://www.semana.com/economia/macroeconomia/articulo/atencion-reforma-tributaria-de-petro-propone-acabar-con-el-4-x-1000-en-este-tipo-de-casos/'"
      ]
     },
     "execution_count": 46,
     "metadata": {},
     "output_type": "execute_result"
    }
   ],
   "source": [
    "df[df['news_id'] == 'news10011'].news_url_without_dates.values[0]"
   ]
  },
  {
   "cell_type": "markdown",
   "metadata": {},
   "source": [
    "## Label some data"
   ]
  },
  {
   "cell_type": "code",
   "execution_count": 71,
   "metadata": {},
   "outputs": [],
   "source": [
    "label_df = df[df['etiqueta'] == True]"
   ]
  },
  {
   "cell_type": "code",
   "execution_count": 76,
   "metadata": {},
   "outputs": [
    {
     "data": {
      "text/html": [
       "<div>\n",
       "<style scoped>\n",
       "    .dataframe tbody tr th:only-of-type {\n",
       "        vertical-align: middle;\n",
       "    }\n",
       "\n",
       "    .dataframe tbody tr th {\n",
       "        vertical-align: top;\n",
       "    }\n",
       "\n",
       "    .dataframe thead th {\n",
       "        text-align: right;\n",
       "    }\n",
       "</style>\n",
       "<table border=\"1\" class=\"dataframe\">\n",
       "  <thead>\n",
       "    <tr style=\"text-align: right;\">\n",
       "      <th></th>\n",
       "      <th>news_id</th>\n",
       "      <th>news_url_absolute</th>\n",
       "      <th>news_init_date</th>\n",
       "      <th>news_final_date</th>\n",
       "      <th>news_title</th>\n",
       "      <th>news_text_content</th>\n",
       "      <th>news_url_without_dates</th>\n",
       "      <th>domain</th>\n",
       "      <th>sections_url</th>\n",
       "      <th>etiqueta</th>\n",
       "    </tr>\n",
       "  </thead>\n",
       "  <tbody>\n",
       "    <tr>\n",
       "      <th>0</th>\n",
       "      <td>news10006</td>\n",
       "      <td>https://www.bluradio.com/economia/precio-dolar...</td>\n",
       "      <td>2022-07-30</td>\n",
       "      <td>2022-08-14</td>\n",
       "      <td>precio dolar hoy cotizacion divisa aumento supero</td>\n",
       "      <td>martes agosto dolar alcanzo precio maximo mini...</td>\n",
       "      <td>https://www.bluradio.com/economia/precio-dolar...</td>\n",
       "      <td>bluradio.com</td>\n",
       "      <td>[economia]</td>\n",
       "      <td>True</td>\n",
       "    </tr>\n",
       "    <tr>\n",
       "      <th>1</th>\n",
       "      <td>news10011</td>\n",
       "      <td>https://www.semana.com/economia/macroeconomia/...</td>\n",
       "      <td>2022-07-30</td>\n",
       "      <td>2022-08-14</td>\n",
       "      <td>cierto presidente gustavo petro quiere acabe d...</td>\n",
       "      <td>mas permanente temporal asi ocurrio impuesto x...</td>\n",
       "      <td>https://www.semana.com/economia/macroeconomia/...</td>\n",
       "      <td>semana.com</td>\n",
       "      <td>[economia, macroeconomia, articulo]</td>\n",
       "      <td>True</td>\n",
       "    </tr>\n",
       "    <tr>\n",
       "      <th>5</th>\n",
       "      <td>news10030</td>\n",
       "      <td>https://www.semana.com/economia/macroeconomia/...</td>\n",
       "      <td>2022-07-30</td>\n",
       "      <td>2022-08-14</td>\n",
       "      <td>cuanto cuesta hacer mercado venezuela precio c...</td>\n",
       "      <td>precio alimentos sube baja frecuencia ultimos ...</td>\n",
       "      <td>https://www.semana.com/economia/macroeconomia/...</td>\n",
       "      <td>semana.com</td>\n",
       "      <td>[economia, macroeconomia, articulo]</td>\n",
       "      <td>True</td>\n",
       "    </tr>\n",
       "    <tr>\n",
       "      <th>23</th>\n",
       "      <td>news10110</td>\n",
       "      <td>https://www.laopinion.com.co/economia/nequi-se...</td>\n",
       "      <td>2022-07-30</td>\n",
       "      <td>2022-08-14</td>\n",
       "      <td>nequi sera compania financiamiento bancolombia</td>\n",
       "      <td>hace nequi plataforma digital bancolombia esci...</td>\n",
       "      <td>https://www.laopinion.com.co/economia/nequi-se...</td>\n",
       "      <td>laopinion.com.co</td>\n",
       "      <td>[economia]</td>\n",
       "      <td>True</td>\n",
       "    </tr>\n",
       "    <tr>\n",
       "      <th>26</th>\n",
       "      <td>news10115</td>\n",
       "      <td>https://www.eldiarioar.com/economia/washington...</td>\n",
       "      <td>2022-07-15</td>\n",
       "      <td>2022-07-30</td>\n",
       "      <td>washington batakis aseguro inversores pleno ap...</td>\n",
       "      <td>mostro decidida bajar deficit fiscal idea inte...</td>\n",
       "      <td>https://www.eldiarioar.com/economia/washington...</td>\n",
       "      <td>eldiarioar.com</td>\n",
       "      <td>[economia]</td>\n",
       "      <td>True</td>\n",
       "    </tr>\n",
       "    <tr>\n",
       "      <th>...</th>\n",
       "      <td>...</td>\n",
       "      <td>...</td>\n",
       "      <td>...</td>\n",
       "      <td>...</td>\n",
       "      <td>...</td>\n",
       "      <td>...</td>\n",
       "      <td>...</td>\n",
       "      <td>...</td>\n",
       "      <td>...</td>\n",
       "      <td>...</td>\n",
       "    </tr>\n",
       "    <tr>\n",
       "      <th>23362</th>\n",
       "      <td>news99935</td>\n",
       "      <td>https://www.infobae.com/economia/2022/08/13/el...</td>\n",
       "      <td>2022-07-30</td>\n",
       "      <td>2022-08-14</td>\n",
       "      <td>gobierno oficializo acceso especial dolares em...</td>\n",
       "      <td>anuncio ayer ministro economia sergio massa go...</td>\n",
       "      <td>https://www.infobae.com/economia/el-gobierno-o...</td>\n",
       "      <td>infobae.com</td>\n",
       "      <td>[economia]</td>\n",
       "      <td>True</td>\n",
       "    </tr>\n",
       "    <tr>\n",
       "      <th>23364</th>\n",
       "      <td>news99947</td>\n",
       "      <td>https://www.elespectador.com/economia/macroeco...</td>\n",
       "      <td>2022-07-30</td>\n",
       "      <td>2022-08-14</td>\n",
       "      <td>opep reune miercoles definir produccion petroleo</td>\n",
       "      <td>responsables organizacion paises exportadores ...</td>\n",
       "      <td>https://www.elespectador.com/economia/macroeco...</td>\n",
       "      <td>elespectador.com</td>\n",
       "      <td>[economia, macroeconomia]</td>\n",
       "      <td>True</td>\n",
       "    </tr>\n",
       "    <tr>\n",
       "      <th>23366</th>\n",
       "      <td>news99971</td>\n",
       "      <td>https://www.efe.com/efe/america/economia/el-pe...</td>\n",
       "      <td>2022-07-15</td>\n",
       "      <td>2022-07-30</td>\n",
       "      <td>petroleo texas sube cierra dolares</td>\n",
       "      <td>precio petroleo intermedio texas wti subio vie...</td>\n",
       "      <td>https://www.efe.com/efe/america/economia/el-pe...</td>\n",
       "      <td>efe.com</td>\n",
       "      <td>[efe, america, economia, el-petroleo-de-texas-...</td>\n",
       "      <td>True</td>\n",
       "    </tr>\n",
       "    <tr>\n",
       "      <th>23375</th>\n",
       "      <td>news99996</td>\n",
       "      <td>https://www.laopinion.com.co/premium/economia/...</td>\n",
       "      <td>2022-07-15</td>\n",
       "      <td>2022-07-30</td>\n",
       "      <td>ocurren recesiones economicas</td>\n",
       "      <td>comportamiento economia ultimos meses hace per...</td>\n",
       "      <td>https://www.laopinion.com.co/premium/economia/...</td>\n",
       "      <td>laopinion.com.co</td>\n",
       "      <td>[premium, economia]</td>\n",
       "      <td>True</td>\n",
       "    </tr>\n",
       "    <tr>\n",
       "      <th>23376</th>\n",
       "      <td>news99997</td>\n",
       "      <td>https://www.laopinion.com.co/economia/en-cucut...</td>\n",
       "      <td>2022-07-15</td>\n",
       "      <td>2022-07-30</td>\n",
       "      <td>cucuta subio desempleo junio</td>\n",
       "      <td>viernes departamento administrativo nacional e...</td>\n",
       "      <td>https://www.laopinion.com.co/economia/en-cucut...</td>\n",
       "      <td>laopinion.com.co</td>\n",
       "      <td>[economia]</td>\n",
       "      <td>True</td>\n",
       "    </tr>\n",
       "  </tbody>\n",
       "</table>\n",
       "<p>2682 rows × 10 columns</p>\n",
       "</div>"
      ],
      "text/plain": [
       "         news_id                                  news_url_absolute  \\\n",
       "0      news10006  https://www.bluradio.com/economia/precio-dolar...   \n",
       "1      news10011  https://www.semana.com/economia/macroeconomia/...   \n",
       "5      news10030  https://www.semana.com/economia/macroeconomia/...   \n",
       "23     news10110  https://www.laopinion.com.co/economia/nequi-se...   \n",
       "26     news10115  https://www.eldiarioar.com/economia/washington...   \n",
       "...          ...                                                ...   \n",
       "23362  news99935  https://www.infobae.com/economia/2022/08/13/el...   \n",
       "23364  news99947  https://www.elespectador.com/economia/macroeco...   \n",
       "23366  news99971  https://www.efe.com/efe/america/economia/el-pe...   \n",
       "23375  news99996  https://www.laopinion.com.co/premium/economia/...   \n",
       "23376  news99997  https://www.laopinion.com.co/economia/en-cucut...   \n",
       "\n",
       "      news_init_date news_final_date  \\\n",
       "0         2022-07-30      2022-08-14   \n",
       "1         2022-07-30      2022-08-14   \n",
       "5         2022-07-30      2022-08-14   \n",
       "23        2022-07-30      2022-08-14   \n",
       "26        2022-07-15      2022-07-30   \n",
       "...              ...             ...   \n",
       "23362     2022-07-30      2022-08-14   \n",
       "23364     2022-07-30      2022-08-14   \n",
       "23366     2022-07-15      2022-07-30   \n",
       "23375     2022-07-15      2022-07-30   \n",
       "23376     2022-07-15      2022-07-30   \n",
       "\n",
       "                                              news_title  \\\n",
       "0      precio dolar hoy cotizacion divisa aumento supero   \n",
       "1      cierto presidente gustavo petro quiere acabe d...   \n",
       "5      cuanto cuesta hacer mercado venezuela precio c...   \n",
       "23        nequi sera compania financiamiento bancolombia   \n",
       "26     washington batakis aseguro inversores pleno ap...   \n",
       "...                                                  ...   \n",
       "23362  gobierno oficializo acceso especial dolares em...   \n",
       "23364   opep reune miercoles definir produccion petroleo   \n",
       "23366                 petroleo texas sube cierra dolares   \n",
       "23375                      ocurren recesiones economicas   \n",
       "23376                       cucuta subio desempleo junio   \n",
       "\n",
       "                                       news_text_content  \\\n",
       "0      martes agosto dolar alcanzo precio maximo mini...   \n",
       "1      mas permanente temporal asi ocurrio impuesto x...   \n",
       "5      precio alimentos sube baja frecuencia ultimos ...   \n",
       "23     hace nequi plataforma digital bancolombia esci...   \n",
       "26     mostro decidida bajar deficit fiscal idea inte...   \n",
       "...                                                  ...   \n",
       "23362  anuncio ayer ministro economia sergio massa go...   \n",
       "23364  responsables organizacion paises exportadores ...   \n",
       "23366  precio petroleo intermedio texas wti subio vie...   \n",
       "23375  comportamiento economia ultimos meses hace per...   \n",
       "23376  viernes departamento administrativo nacional e...   \n",
       "\n",
       "                                  news_url_without_dates            domain  \\\n",
       "0      https://www.bluradio.com/economia/precio-dolar...      bluradio.com   \n",
       "1      https://www.semana.com/economia/macroeconomia/...        semana.com   \n",
       "5      https://www.semana.com/economia/macroeconomia/...        semana.com   \n",
       "23     https://www.laopinion.com.co/economia/nequi-se...  laopinion.com.co   \n",
       "26     https://www.eldiarioar.com/economia/washington...    eldiarioar.com   \n",
       "...                                                  ...               ...   \n",
       "23362  https://www.infobae.com/economia/el-gobierno-o...       infobae.com   \n",
       "23364  https://www.elespectador.com/economia/macroeco...  elespectador.com   \n",
       "23366  https://www.efe.com/efe/america/economia/el-pe...           efe.com   \n",
       "23375  https://www.laopinion.com.co/premium/economia/...  laopinion.com.co   \n",
       "23376  https://www.laopinion.com.co/economia/en-cucut...  laopinion.com.co   \n",
       "\n",
       "                                            sections_url  etiqueta  \n",
       "0                                             [economia]      True  \n",
       "1                    [economia, macroeconomia, articulo]      True  \n",
       "5                    [economia, macroeconomia, articulo]      True  \n",
       "23                                            [economia]      True  \n",
       "26                                            [economia]      True  \n",
       "...                                                  ...       ...  \n",
       "23362                                         [economia]      True  \n",
       "23364                          [economia, macroeconomia]      True  \n",
       "23366  [efe, america, economia, el-petroleo-de-texas-...      True  \n",
       "23375                                [premium, economia]      True  \n",
       "23376                                         [economia]      True  \n",
       "\n",
       "[2682 rows x 10 columns]"
      ]
     },
     "execution_count": 76,
     "metadata": {},
     "output_type": "execute_result"
    }
   ],
   "source": [
    "label_df"
   ]
  },
  {
   "cell_type": "code",
   "execution_count": 98,
   "metadata": {},
   "outputs": [],
   "source": [
    "def make_label(x):\n",
    "    for category in data:\n",
    "        if bool(set(x) & set(data[category])):\n",
    "            return category"
   ]
  },
  {
   "cell_type": "code",
   "execution_count": 99,
   "metadata": {},
   "outputs": [
    {
     "name": "stderr",
     "output_type": "stream",
     "text": [
      "C:\\Users\\isabl\\AppData\\Local\\Temp\\ipykernel_16088\\1978341959.py:1: SettingWithCopyWarning: \n",
      "A value is trying to be set on a copy of a slice from a DataFrame.\n",
      "Try using .loc[row_indexer,col_indexer] = value instead\n",
      "\n",
      "See the caveats in the documentation: https://pandas.pydata.org/pandas-docs/stable/user_guide/indexing.html#returning-a-view-versus-a-copy\n",
      "  label_df['label'] = label_df['sections_url'].apply(func=make_label)\n"
     ]
    }
   ],
   "source": [
    "label_df['label'] = label_df['sections_url'].apply(func=make_label)"
   ]
  },
  {
   "cell_type": "code",
   "execution_count": 108,
   "metadata": {},
   "outputs": [
    {
     "data": {
      "text/plain": [
       "macroeconomia     1995\n",
       "innovacion         360\n",
       "alianzas           249\n",
       "sostenibilidad      60\n",
       "reputacion          16\n",
       "regulacion           2\n",
       "Name: label, dtype: int64"
      ]
     },
     "execution_count": 108,
     "metadata": {},
     "output_type": "execute_result"
    }
   ],
   "source": [
    "label_df['label'].value_counts()"
   ]
  }
 ],
 "metadata": {
  "kernelspec": {
   "display_name": "Python 3.9.1 64-bit",
   "language": "python",
   "name": "python3"
  },
  "language_info": {
   "codemirror_mode": {
    "name": "ipython",
    "version": 3
   },
   "file_extension": ".py",
   "mimetype": "text/x-python",
   "name": "python",
   "nbconvert_exporter": "python",
   "pygments_lexer": "ipython3",
   "version": "3.9.1"
  },
  "orig_nbformat": 4,
  "vscode": {
   "interpreter": {
    "hash": "81794d4967e6c3204c66dcd87b604927b115b27c00565d3d43f05ba2f3a2cb0d"
   }
  }
 },
 "nbformat": 4,
 "nbformat_minor": 2
}
